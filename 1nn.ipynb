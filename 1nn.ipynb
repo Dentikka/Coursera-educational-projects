{
 "cells": [
  {
   "cell_type": "code",
   "execution_count": 58,
   "id": "846bcd9b",
   "metadata": {},
   "outputs": [],
   "source": [
    "from sklearn.datasets import load_digits\n",
    "\n",
    "digits = load_digits()\n",
    "\n",
    "X, y = digits.data, digits.target\n",
    "\n",
    "idx = int(0.75 * X.shape[0]) + 1\n",
    "\n",
    "X_train, X_test = np.split(X, [idx])\n",
    "y_train, y_test = np.split(y, [idx])"
   ]
  },
  {
   "cell_type": "code",
   "execution_count": 5,
   "id": "5fffee0e",
   "metadata": {},
   "outputs": [],
   "source": [
    "from scipy.spatial.distance import euclidean"
   ]
  },
  {
   "cell_type": "code",
   "execution_count": 26,
   "id": "a6f2a053",
   "metadata": {},
   "outputs": [],
   "source": [
    "def OneNeighbourClassifier(X, X_train, y_train):\n",
    "    predictions = list()\n",
    "    for x in X:\n",
    "        neighbours = list()\n",
    "        for index, train_x in enumerate(X_train):\n",
    "            neighbours.append([euclidean(x, train_x), y_train[index]])\n",
    "        neighbours_sorted = neighbours.sort()\n",
    "        predictions.append(neighbours[0][1])\n",
    "    return predictions"
   ]
  },
  {
   "cell_type": "code",
   "execution_count": 59,
   "id": "7e1340bd",
   "metadata": {},
   "outputs": [
    {
     "data": {
      "text/plain": [
       "0.0378619153674833"
      ]
     },
     "execution_count": 59,
     "metadata": {},
     "output_type": "execute_result"
    }
   ],
   "source": [
    "test_size = len(y_test)\n",
    "predictions = np.array(OneNeighbourClassifier(X_test, X_train, y_train))\n",
    "mistakes_count = len(predictions[predictions != y_test])\n",
    "mistakes_fraction = mistakes_count / test_size\n",
    "mistakes_fraction"
   ]
  }
 ],
 "metadata": {
  "kernelspec": {
   "display_name": "Python 3 (ipykernel)",
   "language": "python",
   "name": "python3"
  },
  "language_info": {
   "codemirror_mode": {
    "name": "ipython",
    "version": 3
   },
   "file_extension": ".py",
   "mimetype": "text/x-python",
   "name": "python",
   "nbconvert_exporter": "python",
   "pygments_lexer": "ipython3",
   "version": "3.9.10"
  }
 },
 "nbformat": 4,
 "nbformat_minor": 5
}
